{
  "cells": [
    {
      "cell_type": "markdown",
      "metadata": {
        "id": "rXnZwOwJOmEm"
      },
      "source": [
        "# Model 1: A Python Program"
      ]
    },
    {
      "cell_type": "markdown",
      "metadata": {
        "id": "nu6BnOFONT3Q"
      },
      "source": [
        "1. The following is a Python program. Run it and determine what it does."
      ]
    },
    {
      "cell_type": "code",
      "execution_count": null,
      "metadata": {
        "colab": {
          "base_uri": "https://localhost:8080/"
        },
        "id": "ctzqreANNZKf",
        "outputId": "3b3de98d-99af-4b74-c479-506187bb5d5e"
      },
      "outputs": [],
      "source": [
        "def main():\n",
        "  print('Go!')\n",
        "\n",
        "if (__name__ == '__main__'):\n",
        "  main()"
      ]
    },
    {
      "cell_type": "markdown",
      "metadata": {
        "id": "rWPcpLryhYbp"
      },
      "source": [
        "For our purposes today, the only line of interest is line 2. The remaining lines are an optional structure or scaffold that supports line 2."
      ]
    },
    {
      "cell_type": "markdown",
      "metadata": {
        "id": "XBVhlklZPD2J"
      },
      "source": [
        "2. Replace line 2 with each of the following. What is produced? How are they different? Is there is a problem?\n",
        "\n",
        "  (a) `print('Hello, my name is Jon')`\n",
        "\n",
        "  (b) `print(\"Hello, my name is Jon\")`\n",
        "\n",
        "  (c) `print(Hello, my name is Jon)`\n",
        "\n",
        "  (d) `print('Hello,\\nmy name is Jon')`"
      ]
    },
    {
      "cell_type": "markdown",
      "metadata": {
        "id": "aKTrdEx9fqAI"
      },
      "source": [
        "3. A _string literal_ is a sequence of characters surrounded by a pair of matching quotation marks (either a pair of single quotes, `'`, or double quotes, `\"`). Use this definition to explain the difference between 2(a), 2(b), and 2(c)."
      ]
    },
    {
      "cell_type": "markdown",
      "metadata": {
        "id": "1kYw_BSkgYw7"
      },
      "source": [
        "4. What difference is in the code for 2(a) and 2(d)? What difference is there in the output?"
      ]
    },
    {
      "cell_type": "markdown",
      "metadata": {
        "id": "ABMhxOvtgpyV"
      },
      "source": [
        "5. What do you think the following Python statements will output? (You may replace line 2 in the above program or you can create a new code block above or below to try it out.)\n",
        "\n",
        "  (a) `print(2 + 5)`\n",
        "\n",
        "  (b) `print(2+5)`\n",
        "\n",
        "  (c) `print(2 * 5)`\n",
        "\n",
        "  (d) `print('2 + 5')`\n",
        "\n",
        "  (e) `print('Age:', 20)`\n",
        "\n",
        "  (f) `print('Age: ', 20)`"
      ]
    },
    {
      "cell_type": "markdown",
      "metadata": {
        "id": "sS-uilpbhTAe"
      },
      "source": [
        "6. Answer the following questions about the code in question 5.\n",
        "\n",
        "  (a) What is the difference in the code between 5(a) and 5(b)? What is the difference in the output?\n",
        "\n",
        "  (b) What is the difference in the code between 5(a) and 5(d)? What is the difference in the output?\n",
        "\n",
        "  (c) Which statement(s) contain a _string literal_? Explain.\n",
        "\n",
        "  (d) What does the comma (`,`) do in 5(e)?\n",
        "\n",
        "  (e) What is the difference in the code between 5(e) and 5(f)? What is the difference in the output?"
      ]
    },
    {
      "cell_type": "markdown",
      "metadata": {
        "id": "GFnxQ89zj4vG"
      },
      "source": [
        "# Model 2: Another Python Program"
      ]
    },
    {
      "cell_type": "code",
      "execution_count": null,
      "metadata": {
        "id": "91Sepr0IkBnd"
      },
      "outputs": [],
      "source": [
        "# CPTR 141, Pogil 1\n",
        "# This program prints a welcome statement\n",
        "\n",
        "def main():\n",
        "  print('Hello, Jane.')\n",
        "  print('Enjoy programming in Python!')\n",
        "\n",
        "# boilerplate to cause the main function to be executed\n",
        "if (__name__ == '__main__'):\n",
        "  main()"
      ]
    },
    {
      "cell_type": "markdown",
      "metadata": {
        "id": "SFQI4Fd3kenQ"
      },
      "source": [
        "7. What do the first two lines of this program do?"
      ]
    },
    {
      "cell_type": "markdown",
      "metadata": {
        "id": "uy_6WmXKk9lM"
      },
      "source": [
        "8. What would happen if you placed an octothorpe (`#`) at the beginning of line 5 in this program?"
      ]
    },
    {
      "cell_type": "markdown",
      "metadata": {
        "id": "PfonFfHGlcdd"
      },
      "source": [
        "A _comment_ is text in a program that explains or annotates the source code, but does not affect how the program runs."
      ]
    },
    {
      "cell_type": "markdown",
      "metadata": {
        "id": "isOK4G-lltZS"
      },
      "source": [
        "9. Edit the following code so that it produces the following output:\n",
        "\n",
        "```\n",
        "  Congratulations!\n",
        "  You just created\n",
        "  your first Python program.\n",
        "```"
      ]
    },
    {
      "cell_type": "code",
      "execution_count": null,
      "metadata": {
        "id": "iOvHZkUimGZN"
      },
      "outputs": [],
      "source": [
        "Print congratulatory message\n",
        "main():\n",
        "  print()\n",
        "  print()\n",
        "  print()\n",
        "\n",
        "if (__name__ == '__main__'):\n",
        "  main()"
      ]
    },
    {
      "cell_type": "markdown",
      "metadata": {
        "id": "U7Xu19O4mdQG"
      },
      "source": [
        "# Model 3: Collecting Input"
      ]
    },
    {
      "cell_type": "code",
      "execution_count": null,
      "metadata": {
        "id": "Eu1eaM3HmhLL"
      },
      "outputs": [],
      "source": [
        "def main():\n",
        "  name = input('What is your name? ')\n",
        "  print('Your name is', name)\n",
        "\n",
        "if (__name__ == '__main__'):\n",
        "  main()"
      ]
    },
    {
      "cell_type": "markdown",
      "metadata": {
        "id": "E-1j2nJmmsgF"
      },
      "source": [
        "10. Execute the above code and describe what the program does."
      ]
    },
    {
      "cell_type": "markdown",
      "metadata": {
        "id": "gr3DiLESm9MQ"
      },
      "source": [
        "The word **name** in this code identifies a _variable_ (a name given to a memory location that holds a reference to a value)."
      ]
    },
    {
      "cell_type": "markdown",
      "metadata": {
        "id": "Vu7S-VeHnRJ9"
      },
      "source": [
        "11. What happens to the text that the user of the program enters?"
      ]
    },
    {
      "cell_type": "markdown",
      "metadata": {
        "id": "v-swMS-InZ3z"
      },
      "source": [
        "12. Does the user of the program (as opposed to you, the programmer) know what identifier is used for the variable that stores the text the user enters?"
      ]
    },
    {
      "cell_type": "markdown",
      "metadata": {
        "id": "imnVpcRGn7QY"
      },
      "source": [
        "13. We also wish to collect the user's age. Explain the errors that occur when you try to add each line below between lines 2 and 3 in the program above. (Remove each added line before trying the next line.)\n",
        "\n",
        "  (a) `age? = input('Enter age: ')`\n",
        "\n",
        "  (b) `your age = input('Enter age: ')`\n",
        "\n",
        "  (c) `1st_age = input('Enter age: ')`\n",
        "\n",
        "  (d) `if = input('Enter age: ')`\n",
        "\n",
        "  (e) `the.age = input('Enter age: ')`"
      ]
    },
    {
      "cell_type": "markdown",
      "metadata": {
        "id": "BEvA1aQ_o08P"
      },
      "source": [
        "14. The following are valid names for age. Based on this list, and the errors you found above, write two rules that valid variable names must follow in Python.\n",
        "\n",
        "  `age`\n",
        "  \n",
        "  `age2`\n",
        "\n",
        "  `myAge`\n",
        "  \n",
        "  `the_age`"
      ]
    },
    {
      "cell_type": "markdown",
      "metadata": {
        "id": "A_4SQ3TBpcG8"
      },
      "source": [
        "15. Suppose you need a variable to store the cost of an item. The following names are suggested. Are they valid? What are arguments for and against each possible name?\n",
        "\n",
        "  (a) `price`\n",
        "\n",
        "  (b) `priceoftheitem`\n",
        "\n",
        "  (c) `x`\n",
        "\n",
        "  (d) `itemPrice`"
      ]
    },
    {
      "cell_type": "code",
      "execution_count": null,
      "metadata": {
        "id": "oJuiqVt5Oyig"
      },
      "outputs": [],
      "source": [
        "def main():\n",
        "  pass\n",
        "\n",
        "if (__name__ == '__main__'):\n",
        "  main()"
      ]
    },
    {
      "cell_type": "markdown",
      "metadata": {
        "id": "lnBGEP8EOYxR"
      },
      "source": [
        "16. Modify the above Python program by replacing line 2 with coded that prompts the user for two strings and then prints out a message based on those two strings as shown below. Use meaningful variable names in your code.\n",
        "\n",
        "```\n",
        "  What is your favorite food? pizza\n",
        "  What is your favorite color? green\n",
        "  I am not sure I would eat green pizza!\n",
        "```"
      ]
    }
  ],
  "metadata": {
    "colab": {
      "provenance": []
    },
    "kernelspec": {
      "display_name": "Python 3",
      "name": "python3"
    },
    "language_info": {
      "name": "python",
      "version": "3.12.5"
    }
  },
  "nbformat": 4,
  "nbformat_minor": 0
}
