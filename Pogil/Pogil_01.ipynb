{
  "cells": [
    {
      "cell_type": "markdown",
      "metadata": {
        "id": "rXnZwOwJOmEm"
      },
      "source": [
        "# Model 1: Simple Arithmetic Operators"
      ]
    },
    {
      "cell_type": "markdown",
      "metadata": {
        "id": "nu6BnOFONT3Q"
      },
      "source": [
        "1. Python allows you to evaluate arithmetic expressions. Predict what you will get from each of the following, then move the mouse to the square brackets (`[ ]`) where it turns into a circle with a right-facing triangle (a \"play\" or \"run\" button), and click to evaluate the expression."
      ]
    },
    {
      "cell_type": "code",
      "execution_count": null,
      "metadata": {},
      "outputs": [],
      "source": [
        "7 + 2"
      ]
    },
    {
      "cell_type": "code",
      "execution_count": null,
      "metadata": {},
      "outputs": [],
      "source": [
        "7 - 2"
      ]
    },
    {
      "cell_type": "code",
      "execution_count": null,
      "metadata": {},
      "outputs": [],
      "source": [
        "7 * 2"
      ]
    },
    {
      "cell_type": "code",
      "execution_count": null,
      "metadata": {},
      "outputs": [],
      "source": [
        "7 / 2"
      ]
    },
    {
      "cell_type": "markdown",
      "metadata": {
        "id": "XBVhlklZPD2J"
      },
      "source": [
        "2. Look at the following expressions. How are they different? What do you expect from each one? Try running the code. Did it do what you expected?"
      ]
    },
    {
      "cell_type": "code",
      "execution_count": null,
      "metadata": {},
      "outputs": [],
      "source": [
        "7 + 2"
      ]
    },
    {
      "cell_type": "code",
      "execution_count": null,
      "metadata": {},
      "outputs": [],
      "source": [
        "7+2"
      ]
    },
    {
      "cell_type": "code",
      "execution_count": null,
      "metadata": {},
      "outputs": [],
      "source": [
        "7  +  2"
      ]
    },
    {
      "cell_type": "markdown",
      "metadata": {},
      "source": [
        "In Python (and most programming languages) spaces and tabs (so-called, _whitespace_) within an expression are ignored and are used primarily to make the code more readable. We generally follow the convention of a single space around each operator."
      ]
    },
    {
      "cell_type": "markdown",
      "metadata": {},
      "source": [
        "3. Look at the following expressions. What do you expect the value of each one to be? Try running the code. Did it do what you expected? What difference do you see in the results?"
      ]
    },
    {
      "cell_type": "code",
      "execution_count": null,
      "metadata": {},
      "outputs": [],
      "source": [
        "3 + 1"
      ]
    },
    {
      "cell_type": "code",
      "execution_count": null,
      "metadata": {},
      "outputs": [],
      "source": [
        "8 / 2"
      ]
    },
    {
      "cell_type": "markdown",
      "metadata": {},
      "source": [
        "Python has two types of numeric values: integers and floating-point numbers. Integers are just whole numbers (`0`, `1`, `2`, ...) and their negative counterparts (`-1`, `-2`, ...). A floating-point number represents a real number with both an integer and fractional part (the fractional part can be zero, as in the above example). "
      ]
    },
    {
      "cell_type": "markdown",
      "metadata": {},
      "source": [
        "4. Look at the following expressions. What do you expect the value of each one to be? Try running the code. Did it do what you expected? What difference do you see in the results?"
      ]
    },
    {
      "cell_type": "code",
      "execution_count": null,
      "metadata": {},
      "outputs": [],
      "source": [
        "4 * 2"
      ]
    },
    {
      "cell_type": "code",
      "execution_count": null,
      "metadata": {},
      "outputs": [],
      "source": [
        "4.0 * 2"
      ]
    },
    {
      "cell_type": "code",
      "execution_count": null,
      "metadata": {},
      "outputs": [],
      "source": [
        "4 * 2.0"
      ]
    },
    {
      "cell_type": "code",
      "execution_count": null,
      "metadata": {},
      "outputs": [],
      "source": [
        "4.0 * 2.0"
      ]
    },
    {
      "cell_type": "markdown",
      "metadata": {},
      "source": [
        "While division always produces a floating-point number, the `+`, `-`, and `*` operators can produce either an integer or floating-point number as the result. If either operand (the two values on either side of the operator) is a floating-point number, then the result will be a floating-point number."
      ]
    },
    {
      "cell_type": "markdown",
      "metadata": {},
      "source": [
        "---\n",
        "# Model 2. Other Arithmetic Operators\n",
        "\n",
        "Python has three additional arithmetic operators: `//`, `**`, and `%`."
      ]
    },
    {
      "cell_type": "markdown",
      "metadata": {},
      "source": [
        "5. Look at the following expressions. What do you expect the value of each one to be? Try running the code. Did it do what you expected? What difference do you see in the results?"
      ]
    },
    {
      "cell_type": "code",
      "execution_count": null,
      "metadata": {},
      "outputs": [],
      "source": [
        "4.5 / 2"
      ]
    },
    {
      "cell_type": "code",
      "execution_count": null,
      "metadata": {},
      "outputs": [],
      "source": [
        "4.5 // 2"
      ]
    },
    {
      "cell_type": "code",
      "execution_count": null,
      "metadata": {},
      "outputs": [],
      "source": [
        "-4.5 / 2"
      ]
    },
    {
      "cell_type": "code",
      "execution_count": null,
      "metadata": {},
      "outputs": [],
      "source": [
        "-4.5 // 2"
      ]
    },
    {
      "cell_type": "markdown",
      "metadata": {},
      "source": [
        "In an arithmetic expression, the division operator evaluates to a floating-point number that can include a non-zero fractional portion. Python also has a \"floor division\" operator, `//`, that answers the result rounded down toward negative infinity. This operator is also called \"integer division\" but that can be confusing since it returns a floating-point number if either operand is a floating-point number."
      ]
    },
    {
      "cell_type": "markdown",
      "metadata": {},
      "source": [
        "6. Evaluate the following expressions and describe the meaning of the `**` operator."
      ]
    },
    {
      "cell_type": "code",
      "execution_count": null,
      "metadata": {},
      "outputs": [],
      "source": [
        "3 ** 2"
      ]
    },
    {
      "cell_type": "code",
      "execution_count": null,
      "metadata": {},
      "outputs": [],
      "source": [
        "2 ** 3"
      ]
    },
    {
      "cell_type": "code",
      "execution_count": null,
      "metadata": {},
      "outputs": [],
      "source": [
        "4 ** 0.5"
      ]
    },
    {
      "cell_type": "markdown",
      "metadata": {},
      "source": [
        "7. Evaluate the following expressions and describe the meaning of the `%` operator."
      ]
    },
    {
      "cell_type": "code",
      "execution_count": null,
      "metadata": {},
      "outputs": [],
      "source": [
        "5 % 4"
      ]
    },
    {
      "cell_type": "code",
      "execution_count": null,
      "metadata": {},
      "outputs": [],
      "source": [
        "6 % 4"
      ]
    },
    {
      "cell_type": "code",
      "execution_count": null,
      "metadata": {},
      "outputs": [],
      "source": [
        "7 % 4"
      ]
    },
    {
      "cell_type": "code",
      "execution_count": null,
      "metadata": {},
      "outputs": [],
      "source": [
        "8 % 4"
      ]
    },
    {
      "cell_type": "markdown",
      "metadata": {},
      "source": [
        "When you learned long division in grade school, you found that when your divide a dividend by a divisor, you get a _quotient_ and a _remainder_. The quotient is the integer portion of a division operation and the remainder is what is left over. We will find many uses for the _modulo_ operator (`%`)."
      ]
    },
    {
      "cell_type": "markdown",
      "metadata": {},
      "source": [
        "---\n",
        "# Model 3: Arithmetic Expressions\n",
        "\n",
        "So far we have looked at arithmetic expressions that have one _operator_ that separates two _operands_. As with regular mathematics, it is possible to have multiple operators in an expression. \n",
        "\n",
        "8. Predict the value of the following expressions."
      ]
    },
    {
      "cell_type": "code",
      "execution_count": null,
      "metadata": {},
      "outputs": [],
      "source": [
        "2 + 4 - 3"
      ]
    },
    {
      "cell_type": "code",
      "execution_count": null,
      "metadata": {},
      "outputs": [],
      "source": [
        "2 * 4 - 3"
      ]
    },
    {
      "cell_type": "code",
      "execution_count": null,
      "metadata": {},
      "outputs": [],
      "source": [
        "2 + 4 * 3"
      ]
    },
    {
      "cell_type": "code",
      "execution_count": null,
      "metadata": {},
      "outputs": [],
      "source": [
        "8 / 4 * 2"
      ]
    },
    {
      "cell_type": "code",
      "execution_count": null,
      "metadata": {},
      "outputs": [],
      "source": [
        "2 * 8 / 4"
      ]
    },
    {
      "cell_type": "code",
      "execution_count": null,
      "metadata": {},
      "outputs": [],
      "source": [
        "2 * (8 / 4)"
      ]
    },
    {
      "cell_type": "code",
      "execution_count": null,
      "metadata": {},
      "outputs": [],
      "source": [
        "8 + 4 ** 2"
      ]
    },
    {
      "cell_type": "markdown",
      "metadata": {},
      "source": [
        "Python follows the PEMDAS (parenthesis, exponent, multiplication & division, addition & subtraction) model that you learned in grade school."
      ]
    },
    {
      "cell_type": "markdown",
      "metadata": {},
      "source": [
        "---\n",
        "# Model 4: Arithmetic Functions\n",
        "\n",
        "We were introduced to _function_ in Scratch. Like most programming languages, Python has a number of built-in functions (we will look at custom functions in chapters 3 and 4).\n",
        "\n",
        "9. Predict the value of the following expressions."
      ]
    },
    {
      "cell_type": "code",
      "execution_count": null,
      "metadata": {},
      "outputs": [],
      "source": [
        "abs(10 + 3)"
      ]
    },
    {
      "cell_type": "code",
      "execution_count": null,
      "metadata": {},
      "outputs": [],
      "source": [
        "abs(7 - 20)"
      ]
    },
    {
      "cell_type": "markdown",
      "metadata": {},
      "source": [
        "10. Predict the value of the following expressions. What is the definition of the `round()` function?"
      ]
    },
    {
      "cell_type": "code",
      "execution_count": null,
      "metadata": {},
      "outputs": [],
      "source": [
        "round(12 + 1.4)"
      ]
    },
    {
      "cell_type": "code",
      "execution_count": null,
      "metadata": {},
      "outputs": [],
      "source": [
        "round(11 + 2.5)"
      ]
    },
    {
      "cell_type": "code",
      "execution_count": null,
      "metadata": {},
      "outputs": [],
      "source": [
        "round(10 + 3.6)"
      ]
    },
    {
      "cell_type": "code",
      "execution_count": null,
      "metadata": {},
      "outputs": [],
      "source": [
        "round(9 + 5.4)"
      ]
    },
    {
      "cell_type": "code",
      "execution_count": null,
      "metadata": {},
      "outputs": [],
      "source": [
        "round(8 + 6.5)"
      ]
    },
    {
      "cell_type": "code",
      "execution_count": null,
      "metadata": {},
      "outputs": [],
      "source": [
        "round(7 + 7.6)"
      ]
    },
    {
      "cell_type": "markdown",
      "metadata": {},
      "source": [
        "A function takes _arguments_ (expressions that evaluate to a single value) and returns a value."
      ]
    },
    {
      "cell_type": "markdown",
      "metadata": {},
      "source": [
        "---\n",
        "# Model 5: Strings\n",
        "\n",
        "We learned that Scratch supports values that are numbers and strings (and Booleans). So far we've seen that Python supports two number types, integer and floating-point numbers. Now we will look at string values. A _string literal_ is a sequence of characters surrounded by a pair of matching quotation marks (either a pair of single quotes, `'`, or double quotes, `\"`). \n",
        "\n",
        "11. Use this definition to explain the difference between the following."
      ]
    },
    {
      "cell_type": "code",
      "execution_count": null,
      "metadata": {},
      "outputs": [],
      "source": [
        "'Hello, my name is Jon'"
      ]
    },
    {
      "cell_type": "code",
      "execution_count": null,
      "metadata": {},
      "outputs": [],
      "source": [
        "\"Hello, my name is Jon\""
      ]
    },
    {
      "cell_type": "markdown",
      "metadata": {
        "id": "ABMhxOvtgpyV"
      },
      "source": [
        "12. What happens when you try to evaluate the following line as code?"
      ]
    },
    {
      "cell_type": "code",
      "execution_count": null,
      "metadata": {},
      "outputs": [],
      "source": [
        "Hello, my name is Jon"
      ]
    },
    {
      "cell_type": "markdown",
      "metadata": {},
      "source": [
        "13. Predict what the following expressions evaluate to."
      ]
    },
    {
      "cell_type": "code",
      "execution_count": null,
      "metadata": {},
      "outputs": [],
      "source": [
        "'Hello, ' + \"let's go to \" + 'the \"Atlas\".'"
      ]
    },
    {
      "cell_type": "markdown",
      "metadata": {},
      "source": [
        "When Python prints a string as the result of evaluating an expression, it puts the string in single quotes. If the string has a single quote embedded in it (e.g., as an apostrophe), then Python preceeds the single quote with a backslash (`\\`), as a way of indicating that the character is part of the string, not the end of the string."
      ]
    },
    {
      "cell_type": "code",
      "execution_count": null,
      "metadata": {},
      "outputs": [],
      "source": [
        "'Well, ' * 3"
      ]
    },
    {
      "cell_type": "markdown",
      "metadata": {},
      "source": [
        "Python allows you to use the `+` operator to _concatenate_ two strings (in Scratch we used the `join()` function). You can also use the `*` operator with a string (as the left operand) and an integer (as the right operand).\n",
        "\n",
        "14. Try to evaluate the following. What is the result? What rules can you infer about Python from these examples?"
      ]
    },
    {
      "cell_type": "code",
      "execution_count": null,
      "metadata": {},
      "outputs": [],
      "source": [
        "'abcde' - 'b'"
      ]
    },
    {
      "cell_type": "code",
      "execution_count": null,
      "metadata": {},
      "outputs": [],
      "source": [
        "'abba' / 'b'"
      ]
    },
    {
      "cell_type": "code",
      "execution_count": null,
      "metadata": {},
      "outputs": [],
      "source": [
        "`foo`"
      ]
    },
    {
      "cell_type": "code",
      "execution_count": null,
      "metadata": {},
      "outputs": [],
      "source": [
        "“Walla Walla University” "
      ]
    },
    {
      "cell_type": "markdown",
      "metadata": {},
      "source": [
        "15. What are the values of the following expressions?"
      ]
    },
    {
      "cell_type": "code",
      "execution_count": null,
      "metadata": {},
      "outputs": [],
      "source": [
        "len('Walla Walla University')"
      ]
    },
    {
      "cell_type": "code",
      "execution_count": null,
      "metadata": {},
      "outputs": [],
      "source": [
        "len('Walla ' * 2)"
      ]
    },
    {
      "cell_type": "markdown",
      "metadata": {
        "id": "GFnxQ89zj4vG"
      },
      "source": [
        "---\n",
        "# Model 6: Values and Types\n",
        "\n",
        "As mentioned above, Python supports values that are integers, floating-point numbers, and strings. There is a special function that takes a value as an argument and returns a `type` for that value.\n",
        "\n",
        "16. Evaluate the following expressions and note the result."
      ]
    },
    {
      "cell_type": "code",
      "execution_count": null,
      "metadata": {},
      "outputs": [],
      "source": [
        "type(3)"
      ]
    },
    {
      "cell_type": "code",
      "execution_count": null,
      "metadata": {},
      "outputs": [],
      "source": [
        "type(1 / 3)"
      ]
    },
    {
      "cell_type": "code",
      "execution_count": null,
      "metadata": {},
      "outputs": [],
      "source": [
        "type('CPTR 141')"
      ]
    },
    {
      "cell_type": "markdown",
      "metadata": {},
      "source": [
        "Although we have been talking about \"integers\", \"floating-point numbers\", and \"strings\", the proper names in Python are `int`, `float`, and `str`.\n",
        "\n",
        "17. Predict the result of the following expressions."
      ]
    },
    {
      "cell_type": "code",
      "execution_count": null,
      "metadata": {},
      "outputs": [],
      "source": [
        "int(3.5)"
      ]
    },
    {
      "cell_type": "code",
      "execution_count": null,
      "metadata": {},
      "outputs": [],
      "source": [
        "type(int(3.5))"
      ]
    },
    {
      "cell_type": "code",
      "execution_count": null,
      "metadata": {},
      "outputs": [],
      "source": [
        "float(3)"
      ]
    },
    {
      "cell_type": "code",
      "execution_count": null,
      "metadata": {},
      "outputs": [],
      "source": [
        "type(float(3))"
      ]
    },
    {
      "cell_type": "code",
      "execution_count": null,
      "metadata": {},
      "outputs": [],
      "source": [
        "int('3')"
      ]
    },
    {
      "cell_type": "code",
      "execution_count": null,
      "metadata": {},
      "outputs": [],
      "source": [
        "int('3.5')"
      ]
    },
    {
      "cell_type": "code",
      "execution_count": null,
      "metadata": {},
      "outputs": [],
      "source": [
        "str(3 + 4)"
      ]
    },
    {
      "cell_type": "code",
      "execution_count": null,
      "metadata": {},
      "outputs": [],
      "source": [
        "type(str(3 + 4))"
      ]
    },
    {
      "cell_type": "code",
      "execution_count": null,
      "metadata": {},
      "outputs": [],
      "source": [
        "type(type(3))"
      ]
    }
  ],
  "metadata": {
    "colab": {
      "provenance": []
    },
    "kernelspec": {
      "display_name": "Python 3",
      "name": "python3"
    },
    "language_info": {
      "name": "python",
      "version": "3.12.5"
    }
  },
  "nbformat": 4,
  "nbformat_minor": 0
}
