{
  "cells": [
    {
      "cell_type": "markdown",
      "metadata": {
        "id": "rXnZwOwJOmEm"
      },
      "source": [
        "# Pogil for Chapter 2: Variables and Statements\n",
        "## Model 1: Variables\n",
        "\n",
        "In chapter 1 we looked at how an _expression_ can be _evaluated_ to compute a _value_. In Scratch we saw how a _variable_ can be defined to hold a reference to a value. We can also assign a value to a variable in Python.\n",
        "\n",
        "1. Evaluate the following expression. Does it produce a result? If so, what?"
      ]
    },
    {
      "cell_type": "code",
      "execution_count": null,
      "metadata": {},
      "outputs": [],
      "source": [
        "7 + 11"
      ]
    },
    {
      "cell_type": "markdown",
      "metadata": {},
      "source": [
        "2. Execute the following code. Does it produce a result? If so, what?"
      ]
    },
    {
      "cell_type": "code",
      "execution_count": null,
      "metadata": {},
      "outputs": [],
      "source": [
        "age = 18 + 3 / 12"
      ]
    },
    {
      "cell_type": "markdown",
      "metadata": {},
      "source": [
        "While we speak of \"evaluating\" an expression (as we did in #1 above), we say that we \"execute\" code—and code is made up of _statements_ (typically one per line). In Python, an _assignment statement_ consists of three parts: a variable name, the assignment operator, and an expression.\n",
        "\n",
        "3. In the above assignment statement, what is the variable?\n",
        "\n",
        "4. What is the assignment operator?\n",
        "\n",
        "5. What is the expression?\n",
        "\n",
        "While a Python _expression_ returns a value (see #1 above), a _statement_ does its work quietly so that no value is returned or displayed. This means that the assignment statement did not show anything when it was executed (or run).\n",
        "\n",
        "A variable can be used in an expression in any place that a literal value can be used (`7` is an example of a literal `int` value).\n",
        "\n",
        "6. In the following blank Python code block, write and evaluate an expression that returns the value assigned to `age`."
      ]
    },
    {
      "cell_type": "code",
      "execution_count": null,
      "metadata": {},
      "outputs": [],
      "source": []
    },
    {
      "cell_type": "markdown",
      "metadata": {},
      "source": [
        "7. In the following code block, write an expression using `age` that evaluates to twice the value assigned to `age`."
      ]
    },
    {
      "cell_type": "code",
      "execution_count": null,
      "metadata": {},
      "outputs": [],
      "source": []
    },
    {
      "cell_type": "markdown",
      "metadata": {},
      "source": [
        "You should recall that a function can have _arguments_ that are expressions.\n",
        "\n",
        "8. In the following code block, write an expression that rounds `age` to an `int`."
      ]
    },
    {
      "cell_type": "code",
      "execution_count": null,
      "metadata": {},
      "outputs": [],
      "source": []
    },
    {
      "cell_type": "markdown",
      "metadata": {},
      "source": [
        "9. Try evaluating the following expression. What error do you get? How can you fix it?"
      ]
    },
    {
      "cell_type": "code",
      "execution_count": null,
      "metadata": {},
      "outputs": [],
      "source": [
        "'Your age is ' + age"
      ]
    },
    {
      "cell_type": "markdown",
      "metadata": {},
      "source": [
        "Recall that most type names can be used as constructors that change the type of a value, and you want to add something to the end of a string."
      ]
    },
    {
      "cell_type": "markdown",
      "metadata": {},
      "source": [
        "### Variable Names\n",
        "\n",
        "10. Try the following assignment statements and see what happens."
      ]
    },
    {
      "cell_type": "code",
      "execution_count": null,
      "metadata": {},
      "outputs": [],
      "source": [
        "age? = 18 + 3 / 12"
      ]
    },
    {
      "cell_type": "code",
      "execution_count": null,
      "metadata": {},
      "outputs": [],
      "source": [
        "your age = 18 + 3 / 12"
      ]
    },
    {
      "cell_type": "code",
      "execution_count": null,
      "metadata": {},
      "outputs": [],
      "source": [
        "1st_name = 'John'"
      ]
    },
    {
      "cell_type": "code",
      "execution_count": null,
      "metadata": {},
      "outputs": [],
      "source": [
        "if = 18 + 3 / 12"
      ]
    },
    {
      "cell_type": "markdown",
      "metadata": {},
      "source": [
        "`if` is a _reserved word_ in Python and is used for conditionals (we saw those in Scratch and will see them later in Python)."
      ]
    },
    {
      "cell_type": "code",
      "execution_count": null,
      "metadata": {},
      "outputs": [],
      "source": [
        "the.age = 18 + 3 / 12"
      ]
    },
    {
      "cell_type": "markdown",
      "metadata": {},
      "source": [
        "11. The following are valid variable names. Based on this list and the errors you found above, what rules can you infer about valid variable names in Python?\n",
        "\n",
        "* age\n",
        "* age2\n",
        "* myAge\n",
        "* my_age"
      ]
    },
    {
      "cell_type": "markdown",
      "metadata": {},
      "source": [
        "12. Suppose you need a variable to store the cost of an item. The following names are suggested. Are they valid? Are they good choices? Why or why not?\n",
        "\n",
        "* price\n",
        "* priceoftheitem\n",
        "* x\n",
        "* itemPrice"
      ]
    },
    {
      "cell_type": "markdown",
      "metadata": {},
      "source": [
        "---\n",
        "## Model 2: The `import` Statement\n",
        "\n",
        "We introduced the _assignment statement_ above and now will look at our second statement.\n",
        "\n",
        "13. First, recall that Python has various built-in functions, including one that can be used to calculate the square root of a number. Replace the `?` in the following expression with a number so that the expression evaluates to `4.0`."
      ]
    },
    {
      "cell_type": "code",
      "execution_count": null,
      "metadata": {},
      "outputs": [],
      "source": [
        "pow(16, ?)"
      ]
    },
    {
      "cell_type": "markdown",
      "metadata": {},
      "source": [
        "14. Instead of using `pow()` to calculate a square root, it would be nice if there was something more direct. Try to evaluate the following expression and report what happens."
      ]
    },
    {
      "cell_type": "code",
      "execution_count": null,
      "metadata": {},
      "outputs": [],
      "source": [
        "sqrt(16)"
      ]
    },
    {
      "cell_type": "markdown",
      "metadata": {},
      "source": [
        "While `sqrt` is not a _built-in_ function, there is a way to get a `sqrt` function. Python provides many _modules_ with useful functions. A _module_ is a Python file that defines useful variables and functions that a programmer might want to use. (In other languages these are often called _libraries_ using the analogy to a physical library. Just as a physical library contains books that you can borrow, a code library contains a collection of pre-written code that you can use.)\n",
        "\n",
        "15. Execute the following statement to tell Python that you want to use the `math` module."
      ]
    },
    {
      "cell_type": "code",
      "execution_count": null,
      "metadata": {},
      "outputs": [],
      "source": [
        "import math"
      ]
    },
    {
      "cell_type": "markdown",
      "metadata": {},
      "source": [
        "16. Now evaluate the following expression and report the result."
      ]
    },
    {
      "cell_type": "code",
      "execution_count": null,
      "metadata": {},
      "outputs": [],
      "source": [
        "math.sqrt(16)"
      ]
    },
    {
      "cell_type": "markdown",
      "metadata": {},
      "source": [
        "17. As mentioned above, a module can provide variables as well as functions. Evaluate the following expression."
      ]
    },
    {
      "cell_type": "code",
      "execution_count": null,
      "metadata": {},
      "outputs": [],
      "source": [
        "math.pi"
      ]
    },
    {
      "cell_type": "markdown",
      "metadata": {},
      "source": [
        "18. Based on what you see in #16 and #17 above, what is the way to reference a variable or function from a module?"
      ]
    },
    {
      "cell_type": "markdown",
      "metadata": {},
      "source": [
        "---\n",
        "## Model 3: The `print` Function\n",
        "\n",
        "During the Scratch discussion of functions, we said that software functions might or might not return a value and might or might not have a side-effect (change the state of the world).\n",
        "\n",
        "19. The following expression contains a function. Does that function return a value? Does it have a side-effect?"
      ]
    },
    {
      "cell_type": "code",
      "execution_count": null,
      "metadata": {},
      "outputs": [],
      "source": [
        "math.sqrt(16) + 1"
      ]
    },
    {
      "cell_type": "markdown",
      "metadata": {},
      "source": [
        "20. The following expression contains two functions, the `math.sqrt` from above, and a new function, `print`. Does the `print` function return a value? Does it have a side-effect?"
      ]
    },
    {
      "cell_type": "code",
      "execution_count": null,
      "metadata": {},
      "outputs": [],
      "source": [
        "print(math.sqrt(16) + 1)"
      ]
    },
    {
      "cell_type": "markdown",
      "metadata": {},
      "source": [
        "Since evaluating this expression causes output to be displayed, it seems like the earlier example (#19). But since it calls a function named `print` it isn't really clear if the `print` function returns a value (that is then printed), or prints something as a side-effect and doesn't return anything. \n",
        "\n",
        "21. Recall that we can use the `type` function to find the type of a value. What type is returned by the `print` function?"
      ]
    },
    {
      "cell_type": "code",
      "execution_count": null,
      "metadata": {},
      "outputs": [],
      "source": [
        "type(print(math.sqrt(16) + 1))"
      ]
    },
    {
      "cell_type": "markdown",
      "metadata": {},
      "source": [
        "Python has an object, `None` whose type is `<class 'NoneType'>`. When a function (like `print`) doesn't otherwise return a value, this is what gets returned."
      ]
    },
    {
      "cell_type": "markdown",
      "metadata": {},
      "source": [
        "22. Try evaluating the following expression. What is returned? What is the side-effect? "
      ]
    },
    {
      "cell_type": "code",
      "execution_count": null,
      "metadata": {},
      "outputs": [],
      "source": [
        "print('Hello, my name is Jon')"
      ]
    },
    {
      "cell_type": "markdown",
      "metadata": {},
      "source": [
        "23. How is the following expression different in the argument and in the result?"
      ]
    },
    {
      "cell_type": "code",
      "execution_count": null,
      "metadata": {},
      "outputs": [],
      "source": [
        "print('Hello,\\nmy name is Jon')"
      ]
    },
    {
      "cell_type": "markdown",
      "metadata": {},
      "source": [
        "24. The following code block contains two expressions. When you run the code block it evaluates the first expression then the second expression. What is the difference in the code? What is the difference in the output? What does the comma (`,`) do in the `print` function?"
      ]
    },
    {
      "cell_type": "code",
      "execution_count": null,
      "metadata": {},
      "outputs": [],
      "source": [
        "print('Age:', 20)\n",
        "print('Age: ', 20)"
      ]
    },
    {
      "cell_type": "markdown",
      "metadata": {},
      "source": [
        "25. What function could you add to the right side of the `+` (with `20` as its argument) so that the expression evaluates to `'Age: 20'` (a string). Why does `print` (above) allow mixed types (a string and an integer), while the expression below does not allow mixed types?"
      ]
    },
    {
      "cell_type": "code",
      "execution_count": null,
      "metadata": {},
      "outputs": [],
      "source": [
        "'Age:' + 20"
      ]
    },
    {
      "cell_type": "markdown",
      "metadata": {},
      "source": [
        "---\n",
        "## Model 4: Arguments\n",
        "\n",
        "When you _call_ a function you can pass zero or more comma-separated expressions (the _arguments_) that are evaluated before the function is invoked.\n",
        "\n",
        "26. How many arguments are required by the `float`, `int`, and `str` functions?\n",
        "\n",
        "27. How many arguments are required by the `pow` function?\n",
        "\n",
        "28. Evaluate the following expressions and then speculate about the rules for arguments for the `round` function. How are each of these different in the code and in the result?"
      ]
    },
    {
      "cell_type": "code",
      "execution_count": null,
      "metadata": {},
      "outputs": [],
      "source": [
        "round(math.pi)"
      ]
    },
    {
      "cell_type": "code",
      "execution_count": null,
      "metadata": {},
      "outputs": [],
      "source": [
        "round(math.pi, 0)"
      ]
    },
    {
      "cell_type": "code",
      "execution_count": null,
      "metadata": {},
      "outputs": [],
      "source": [
        "round(math.pi, 2)"
      ]
    },
    {
      "cell_type": "markdown",
      "metadata": {
        "id": "GFnxQ89zj4vG"
      },
      "source": [
        "---\n",
        "## Model 5: Comments\n",
        "\n",
        "29. Evaluate the following two expressions. What is the difference in the code? What is the difference in the output?"
      ]
    },
    {
      "cell_type": "code",
      "execution_count": null,
      "metadata": {},
      "outputs": [],
      "source": [
        "2 + 3"
      ]
    },
    {
      "cell_type": "code",
      "execution_count": null,
      "metadata": {},
      "outputs": [],
      "source": [
        "2 + 3 # 5"
      ]
    },
    {
      "cell_type": "markdown",
      "metadata": {
        "id": "PfonFfHGlcdd"
      },
      "source": [
        "A _comment_ is text in a program that explains or annotates the source code, but does not affect how the program runs. In Python, a comment starts with an [octothorpe](https://www.google.com/url?q=https%3A%2F%2Fwww.merriam-webster.com%2Fdictionary%2Foctothorpe) (#) and goes to the end of the line. Of course, descriptive comments are more helpful than vague or inaccurate ones!\n",
        "\n",
        "30. Edit the following code so that it produces the following output:\n",
        "\n",
        "```\n",
        "Congratulations!\n",
        "You just created\n",
        "a Python program.\n",
        "```\n",
        "\n",
        "Change the first line so it is a comment."
      ]
    },
    {
      "cell_type": "code",
      "execution_count": null,
      "metadata": {
        "id": "iOvHZkUimGZN"
      },
      "outputs": [],
      "source": [
        "Print congratulatory message\n",
        "\n",
        "print()\n",
        "print()\n",
        "print()"
      ]
    }
  ],
  "metadata": {
    "colab": {
      "provenance": []
    },
    "kernelspec": {
      "display_name": "Python 3",
      "name": "python3"
    },
    "language_info": {
      "name": "python",
      "version": "3.12.5"
    }
  },
  "nbformat": 4,
  "nbformat_minor": 0
}
