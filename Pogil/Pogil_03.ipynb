{
  "cells": [
    {
      "cell_type": "markdown",
      "metadata": {
        "id": "rXnZwOwJOmEm"
      },
      "source": [
        "# Pogil 3: Functions and Loops\n",
        "\n",
        "## Model 1: A Python Program\n",
        "\n",
        "Run the following program and observe its output."
      ]
    },
    {
      "cell_type": "code",
      "execution_count": null,
      "metadata": {},
      "outputs": [],
      "source": [
        "# function definition\n",
        "def print_message():\n",
        "  print(\"Welcome to Python.\")\n",
        "  print(\"Learn the power of functions!\")\n",
        "\n",
        "# function definition\n",
        "def main():\n",
        "  print(\"Hello Programmer...\")\n",
        "  print_message()     # function call\n",
        "\n",
        "main()                # function call"
      ]
    },
    {
      "cell_type": "markdown",
      "metadata": {},
      "source": [
        "In Scratch, we were introduced to _functions_ (blocks), or code that encapsulates a single task. That is, it combines one or more lines of code into a single name.\n",
        "\n",
        "1. Reflecting on Model 1:\n",
        "<br><br>\n",
        "(a) Which lines of code belong to the function `print_message`?\n",
        "<br><br><br>\n",
        "(b) What other function is defined in this code?\n",
        "<br><br><br><br>\n",
        "(c) What does the `print_message` function do?\n",
        "<br><br><br><br>\n",
        "\n",
        "A _function definition_ is the segment of code that tells Python what to do when the function is called. It contains a _function header_ (the first line of the definition) and a _function body_ (the code that is executed when the function is called). Note that defining a function does not cause the body to be executed; the body is executed only when the function is called.\n",
        "<br><br>\n",
        "\n",
        "2. Continuing with Model 1:\n",
        "<br><br>\n",
        "(a) What _keyword_ is used in Python to begin a function definition?\n",
        "<br><br><br>\n",
        "(b) What line specifies the function header for `print_message`?\n",
        "<br><br><br>\n",
        "(c) What lines specify the function body for `print_message`?\n",
        "<br><br><br>\n",
        "\n",
        "3. A _function call_ is a part of an expression that invokes the function.\n",
        "<br><br><br>\n",
        "(a) What line includes a call to `print_message`?\n",
        "<br><br><br>\n",
        "(b) What happens if you swap lines 8 and 9 in the program?\n",
        "<br><br><br><br>\n",
        "(c) What single line of code could you add to make the program print the last two lines of the original output twice? Where would you add the code?\n",
        "<br><br><br><br><br><br>\n",
        "\n",
        "---\n",
        "## Model 2: A Python Function"
      ]
    },
    {
      "cell_type": "code",
      "execution_count": null,
      "metadata": {},
      "outputs": [],
      "source": [
        "import math\n",
        "\n",
        "def print_area(radius):\n",
        "  area = math.pi * radius ** 2\n",
        "  print('the area of a circle of radius', radius, 'is', area)"
      ]
    },
    {
      "cell_type": "markdown",
      "metadata": {},
      "source": [
        "4. What does this function do?\n",
        "<br><br><br>\n",
        "\n",
        "5. What line contains the function header? What is the _name_ of the function?\n",
        "<br><br><br>\n",
        "\n",
        "6. Other than using a different function name, how is this function header different from the headers in Model 1?\n",
        "<br><br><br>\n",
        "\n",
        "A variable name in a function header is called a _parameter_.\n",
        "<br><br><br>\n",
        "\n",
        "7. What is the name and purpose of the parameter in this function?\n",
        "<br><br><br>\n",
        "\n",
        "8. What is the output produced by each of the following expressions? (You may edit and run Model 2.)\n",
        "<br><br><br>\n",
        "(a) `print_area(3)`\n",
        "<br><br><br>\n",
        "(b) `print_area(4.5)`\n",
        "<br><br><br>\n",
        "\n",
        "9. An _argument_ is a value (the result of evaluating an expression that can contain literals, variables, operators, and/or function calls) that is passed into the function (the value is assigned to a _parameter_).\n",
        "<br><br>\n",
        "(a) What is the argument in question 8(a)?\n",
        "<br><br><br>\n",
        "(b) What is the argument in question 8(b)?\n",
        "<br><br><br>\n",
        "(c) What happens to these arguments inside the function?\n",
        "<br><br><br>\n",
        "(d) Do arguments need to be variables with the same name as the parameters?\n",
        "<br><br><br>\n",
        "\n",
        "10. Write a function that calculates and prints the circumference of a circle with a given (passed-in) radius. Recall that the formula for circumference is C = 2 π _r_. Test it with variations of the expressions in question 8."
      ]
    },
    {
      "cell_type": "code",
      "execution_count": null,
      "metadata": {},
      "outputs": [],
      "source": [
        "# function to calculate and print the circumference of a circle"
      ]
    },
    {
      "cell_type": "markdown",
      "metadata": {},
      "source": [
        "---\n",
        "## Model 3: For Loops\n",
        "\n",
        "In Scratch, we were introduced to three kinds of loops: (1) `repeat (int)`, (2) `forever`, and (3) `repeat until <bool>`. Python has equivalent loops, and we will look at the first type today (the other two will be introduced in the next Pogil activity).\n",
        "\n",
        "11. What is the output of the following program?"
      ]
    },
    {
      "cell_type": "code",
      "execution_count": null,
      "metadata": {},
      "outputs": [],
      "source": [
        "# function to greet a person count times\n",
        "def greet(name, count):\n",
        "  for i in range(count):\n",
        "    print(i, 'Hello', name)\n",
        "\n",
        "greet('Alice', 3)"
      ]
    },
    {
      "cell_type": "markdown",
      "metadata": {},
      "source": [
        "12. Execute the following programs:\n",
        "<br>\n",
        "(a) What is the argument to the `range` function? What is the output of the code? What does the `, end=' '` do (try removing it)?"
      ]
    },
    {
      "cell_type": "code",
      "execution_count": null,
      "metadata": {},
      "outputs": [],
      "source": [
        "for i in range(5):\n",
        "  print(i, end=' ')"
      ]
    },
    {
      "cell_type": "markdown",
      "metadata": {},
      "source": [
        "12. (b) How is the following code different from (a)? How is the output different?"
      ]
    },
    {
      "cell_type": "code",
      "execution_count": null,
      "metadata": {},
      "outputs": [],
      "source": [
        "for i in range(1, 5):\n",
        "  print(i, end=' ')"
      ]
    },
    {
      "cell_type": "markdown",
      "metadata": {},
      "source": [
        "12. (c) How is the following code different from (b)? How is the output different?"
      ]
    },
    {
      "cell_type": "code",
      "execution_count": null,
      "metadata": {},
      "outputs": [],
      "source": [
        "for i in range(3, 20, 2):\n",
        "  print(i, end=' ')"
      ]
    },
    {
      "cell_type": "markdown",
      "metadata": {},
      "source": [
        "12. (d) How is the following code different from (a)? How is the output different?"
      ]
    },
    {
      "cell_type": "code",
      "execution_count": null,
      "metadata": {},
      "outputs": [],
      "source": [
        "iterations = 5\n",
        "for i in range(iterations):\n",
        "  print(i, end=' ')"
      ]
    },
    {
      "cell_type": "markdown",
      "metadata": {},
      "source": [
        "12. (e) How is the following code different from (d)? How is the output different?"
      ]
    },
    {
      "cell_type": "code",
      "execution_count": null,
      "metadata": {},
      "outputs": [],
      "source": [
        "iterations = 5\n",
        "for i in range(1, iterations + 1):\n",
        "  print(i, end=' ')"
      ]
    },
    {
      "cell_type": "markdown",
      "metadata": {},
      "source": [
        "The built-in `range` function is used to describe a sequence of numbers. It is often used in a `for` loop to determine the number of times the loop is executed. \n",
        "\n",
        "13. Explain how the `range` function works. Include an explanation of the arguments when there are one, two, or three of them.\n",
        "<br><br><br><br><br><br>\n",
        "\n",
        "14. Provide arguments for the `range` function in the following loops so that the code prints the numbers indicated.\n",
        "<br>\n",
        "(a) The even numbers between 100 and 200 inclusive:"
      ]
    },
    {
      "cell_type": "code",
      "execution_count": null,
      "metadata": {},
      "outputs": [],
      "source": [
        "for i in range(______):\n",
        "  print(i, end=' ')"
      ]
    },
    {
      "cell_type": "markdown",
      "metadata": {},
      "source": [
        "14. (b) The sequence `5 4 3 2 1 0`:"
      ]
    },
    {
      "cell_type": "code",
      "execution_count": null,
      "metadata": {},
      "outputs": [],
      "source": [
        "for i in range(______):\n",
        "  print(i, end=' ')"
      ]
    },
    {
      "cell_type": "markdown",
      "metadata": {},
      "source": [
        "---\n",
        "## Model 4: A Program with an Accumulator"
      ]
    },
    {
      "cell_type": "code",
      "execution_count": null,
      "metadata": {},
      "outputs": [],
      "source": [
        "def total(count):\n",
        "  sum = 0\n",
        "  for i in range(count):\n",
        "    sum = sum + i\n",
        "  return sum\n",
        "\n",
        "print(total(5))"
      ]
    },
    {
      "cell_type": "markdown",
      "metadata": {},
      "source": [
        "15. Run the above program and explain what it does.\n",
        "<br><br><br><br><br>\n",
        "\n",
        "16. Explain what each of the indicated lines does:\n",
        "<br>\n",
        "(a) Line 2\n",
        "<br><br><br>\n",
        "\n",
        "(b) Line 3\n",
        "<br><br><br>\n",
        "\n",
        "(c) Line 4\n",
        "<br><br><br>\n",
        "\n",
        "An _accumulator_ is a variable that stores (accumulates) a sum or some other value computed from a group of values. \n",
        "<br><br>\n",
        "\n",
        "17. Which variable in this model is an accumulator?\n",
        "<br><br><br>\n",
        "\n",
        "18. Why is the variable `sum` initialized to zero on line 2?\n",
        "<br><br><br>\n",
        "\n",
        "19. Would it be possible to use the same variable as both a counter (`i`) and accumulator (`sum`)? Explain.\n",
        "<br><br><br><br><br><br>\n",
        "\n",
        "20. Write a program to calculate factorials. (Recall that `n! = 1 * 2 * ... * n`, so `5! = 120`.)"
      ]
    },
    {
      "cell_type": "code",
      "execution_count": null,
      "metadata": {},
      "outputs": [],
      "source": [
        "# function to calculate the product of the first N counting numbers"
      ]
    }
  ],
  "metadata": {
    "colab": {
      "provenance": []
    },
    "kernelspec": {
      "display_name": ".venv",
      "language": "python",
      "name": "python3"
    },
    "language_info": {
      "codemirror_mode": {
        "name": "ipython",
        "version": 3
      },
      "file_extension": ".py",
      "mimetype": "text/x-python",
      "name": "python",
      "nbconvert_exporter": "python",
      "pygments_lexer": "ipython3",
      "version": "3.12.7"
    }
  },
  "nbformat": 4,
  "nbformat_minor": 0
}
