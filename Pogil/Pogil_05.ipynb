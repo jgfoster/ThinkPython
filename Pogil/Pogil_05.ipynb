{
  "cells": [
    {
      "cell_type": "markdown",
      "metadata": {
        "id": "rXnZwOwJOmEm"
      },
      "source": [
        "# Pogil 5: Conditionals\n",
        "\n",
        "## Model 1: Relational Operators\n",
        "\n",
        "1. A _relational operator_ is used to test for a particular relationship between two values. It returns either\n",
        "True, if the relationship holds, or False, if it does not. What relationship does each operator below\n",
        "test for?\n",
        "\n",
        "1(a) `<`"
      ]
    },
    {
      "cell_type": "code",
      "execution_count": null,
      "metadata": {},
      "outputs": [],
      "source": [
        "print('1 < 2 is', 1 < 2)\n",
        "print('2 < 2 is', 2 < 2)\n",
        "print('3 < 2 is', 3 < 2)"
      ]
    },
    {
      "cell_type": "markdown",
      "metadata": {},
      "source": [
        "1(b) `<=`"
      ]
    },
    {
      "cell_type": "code",
      "execution_count": null,
      "metadata": {},
      "outputs": [],
      "source": [
        "print('1 <= 2 is', 1 <= 2)\n",
        "print('2 <= 2 is', 2 <= 2)\n",
        "print('3 <= 2 is', 3 <= 2)"
      ]
    },
    {
      "cell_type": "markdown",
      "metadata": {},
      "source": [
        "1(c) `!=`"
      ]
    },
    {
      "cell_type": "code",
      "execution_count": null,
      "metadata": {},
      "outputs": [],
      "source": [
        "print('1 != 2 is', 1 != 2)\n",
        "print('2 != 2 is', 2 != 2)\n",
        "print('3 != 2 is', 3 != 2)"
      ]
    },
    {
      "cell_type": "markdown",
      "metadata": {},
      "source": [
        "1(d) `>`"
      ]
    },
    {
      "cell_type": "code",
      "execution_count": null,
      "metadata": {},
      "outputs": [],
      "source": [
        "print('1 > 2 is', 1 > 2)\n",
        "print('2 > 2 is', 2 > 2)\n",
        "print('3 > 2 is', 3 > 2)"
      ]
    },
    {
      "cell_type": "markdown",
      "metadata": {},
      "source": [
        "1(e) `>=`"
      ]
    },
    {
      "cell_type": "code",
      "execution_count": null,
      "metadata": {},
      "outputs": [],
      "source": [
        "print('1 >= 2 is', 1 >= 2)\n",
        "print('2 >= 2 is', 2 >= 2)\n",
        "print('3 >= 2 is', 3 >= 2)"
      ]
    },
    {
      "cell_type": "markdown",
      "metadata": {},
      "source": [
        "1(f) `==`"
      ]
    },
    {
      "cell_type": "code",
      "execution_count": null,
      "metadata": {},
      "outputs": [],
      "source": [
        "print('1 == 2 is', 1 == 2)\n",
        "print('2 == 2 is', 2 == 2)\n",
        "print('3 == 2 is', 3 == 2)"
      ]
    },
    {
      "cell_type": "markdown",
      "metadata": {},
      "source": [
        "2. Execute the following code to assign values to three variables. Then predict the value of each of the following expressions."
      ]
    },
    {
      "cell_type": "code",
      "execution_count": null,
      "metadata": {},
      "outputs": [],
      "source": [
        "x = 4\n",
        "y = 5\n",
        "z = 4"
      ]
    },
    {
      "cell_type": "code",
      "execution_count": null,
      "metadata": {},
      "outputs": [],
      "source": [
        "# 2(a)\n",
        "x > y"
      ]
    },
    {
      "cell_type": "code",
      "execution_count": null,
      "metadata": {},
      "outputs": [],
      "source": [
        "# 2(b)\n",
        "x < y"
      ]
    },
    {
      "cell_type": "code",
      "execution_count": null,
      "metadata": {},
      "outputs": [],
      "source": [
        "# 2(c)\n",
        "x == y"
      ]
    },
    {
      "cell_type": "code",
      "execution_count": null,
      "metadata": {},
      "outputs": [],
      "source": [
        "# 2(d)\n",
        "x != y"
      ]
    },
    {
      "cell_type": "code",
      "execution_count": null,
      "metadata": {},
      "outputs": [],
      "source": [
        "# 2(e)\n",
        "x >= z"
      ]
    },
    {
      "cell_type": "code",
      "execution_count": null,
      "metadata": {},
      "outputs": [],
      "source": [
        "# 2(f)\n",
        "x <= z"
      ]
    },
    {
      "cell_type": "code",
      "execution_count": null,
      "metadata": {},
      "outputs": [],
      "source": [
        "# 2(g)\n",
        "x + y > 2 * x"
      ]
    },
    {
      "cell_type": "code",
      "execution_count": null,
      "metadata": {},
      "outputs": [],
      "source": [
        "# 2(h)\n",
        "y * x - z != 4 % 4 + 15"
      ]
    },
    {
      "cell_type": "code",
      "execution_count": null,
      "metadata": {},
      "outputs": [],
      "source": [
        "# 2(i)\n",
        "x ** 2 == abs(-16)"
      ]
    },
    {
      "cell_type": "markdown",
      "metadata": {},
      "source": [
        "3. In each expression in questions 2(a) through 2(i), the result was one of two values. What were they?"
      ]
    },
    {
      "cell_type": "markdown",
      "metadata": {},
      "source": [
        "4. Execute the following code to assign values to three variables. Then predict the value for each of the following expressions."
      ]
    },
    {
      "cell_type": "code",
      "execution_count": null,
      "metadata": {},
      "outputs": [],
      "source": [
        "word1 = 'apple'\n",
        "word2 = 'banana'\n",
        "word3 = 'cherry'"
      ]
    },
    {
      "cell_type": "code",
      "execution_count": null,
      "metadata": {},
      "outputs": [],
      "source": [
        "# 4(a)\n",
        "word1 == word2"
      ]
    },
    {
      "cell_type": "code",
      "execution_count": null,
      "metadata": {},
      "outputs": [],
      "source": [
        "# 4(b)\n",
        "word1 != word3"
      ]
    },
    {
      "cell_type": "code",
      "execution_count": null,
      "metadata": {},
      "outputs": [],
      "source": [
        "# 4(c)\n",
        "word1 < word2"
      ]
    },
    {
      "cell_type": "code",
      "execution_count": null,
      "metadata": {},
      "outputs": [],
      "source": [
        "# 4(d)\n",
        "word2 <= word3"
      ]
    },
    {
      "cell_type": "markdown",
      "metadata": {},
      "source": [
        "5. How do relational operators work on strings? (Hint: How does one 'look up' words in a dictionary?)"
      ]
    },
    {
      "cell_type": "markdown",
      "metadata": {},
      "source": [
        "## Model 2: A Truth Table\n",
        "\n",
        "| Condition #1 | Condition #2 | Negation | Conjunction | Disjunction |\n",
        "|:------------:|:------------:|:--------:|:-----------:|:-----------:|\n",
        "| `p`          | `q`          | `not p`  | `p and q`   | `p or q`    |\n",
        "| True         | True         | False    | True        | True        |\n",
        "| True         | False        | False    | False       | True        |\n",
        "| False        | True         | True     | False       | True        |\n",
        "| False        | False        | True     | False       | False       |\n",
        "\n",
        "Refer to Model 2 above as your team develops consensus answers to the questions below.\n",
        "\n",
        "6. The terms `and`, `or`, and `not` are called _logical operators_ because they combine values that are either `True` or `False` to create new values. Evaluate the following code to assign a value to a variable. Then replace `___` below with the appropriate logical operator to produce the desired truth value."
      ]
    },
    {
      "cell_type": "code",
      "execution_count": null,
      "metadata": {},
      "outputs": [],
      "source": [
        "num_books = 40"
      ]
    },
    {
      "cell_type": "code",
      "execution_count": null,
      "metadata": {},
      "outputs": [],
      "source": [
        "# 5(a): make this to be `True`\n",
        "(num_books > 5) ___ (num_books < 100)"
      ]
    },
    {
      "cell_type": "code",
      "execution_count": null,
      "metadata": {},
      "outputs": [],
      "source": [
        "# 5(b): make this to be `True`\n",
        "(num_books < 5) ___ (num_books > 20)"
      ]
    },
    {
      "cell_type": "code",
      "execution_count": null,
      "metadata": {},
      "outputs": [],
      "source": [
        "# 5(c): make this to be `False`\n",
        "___ (num_books * 10 == 400)"
      ]
    },
    {
      "cell_type": "markdown",
      "metadata": {},
      "source": [
        "6. Execute the following code to assign values to five variables. Then write a Boolean Expression for each English statement."
      ]
    },
    {
      "cell_type": "code",
      "execution_count": null,
      "metadata": {},
      "outputs": [],
      "source": [
        "import random\n",
        "name = random.choice(['Alice', 'Bob', 'Charlie', 'David', 'Eve', 'Jane'])\n",
        "w = random.randint(1, 20)\n",
        "x = random.randint(1, 20)\n",
        "y = random.randint(1, 20)\n",
        "z = random.randint(1, 20)"
      ]
    },
    {
      "cell_type": "code",
      "execution_count": null,
      "metadata": {},
      "outputs": [],
      "source": [
        "# 6(a): The variable `name` is not equal to 'Jane'.\n"
      ]
    },
    {
      "cell_type": "code",
      "execution_count": null,
      "metadata": {},
      "outputs": [],
      "source": [
        "# 6(b): The value of `x`` is twice that of `y`, or `y` is less than ten.\n"
      ]
    },
    {
      "cell_type": "code",
      "execution_count": null,
      "metadata": {},
      "outputs": [],
      "source": [
        "# 6(c) The value of `z` is between `0` and `5`, excluding endpoints.\n"
      ]
    },
    {
      "cell_type": "code",
      "execution_count": null,
      "metadata": {},
      "outputs": [],
      "source": [
        "# 6(d): The value of `w` is not between `0` and `5` including endpoints."
      ]
    },
    {
      "cell_type": "markdown",
      "metadata": {},
      "source": [
        "## Model 3: Simple Conditionals\n",
        "\n",
        "Try running the following program and determine what is happening."
      ]
    },
    {
      "cell_type": "code",
      "execution_count": null,
      "metadata": {},
      "outputs": [],
      "source": [
        "def main():\n",
        "  original_price = 100.0\n",
        "  sale_price = 85.0\n",
        "  percent_savings = ((original_price - sale_price) / original_price) * 100\n",
        "  \n",
        "  print(f\"Percent savings: {percent_savings:0.2f}%\")\n",
        "  \n",
        "  if (percent_savings >= 20):\n",
        "    print(\"You found a great deal!\")\n",
        "\n",
        "main()"
      ]
    },
    {
      "cell_type": "markdown",
      "metadata": {},
      "source": [
        "7. What does the program print?\n",
        "\n",
        "8. What happens if you remove the indent from the print statement on line 9?\n",
        "\n",
        "9. On line 3, change the sale price from `85.0` to `75.0`. What does the program print?\n",
        "\n",
        "10. Revise the program so that in addition to the existing print statements, it prints \"Congratulations!\" if the percent savings was 30% or more.\n",
        "\n",
        "11. Revise the program so that it prints \"Done!\" when the program is complete (after all the other print staements).\n",
        "\n",
        "## Model 4: Alternate Conditionals\n",
        "\n",
        "In order to graduate from WWU with a Bachelor’s degree, students must have earned at least 192\n",
        "credits, have a GPA of at least 2.0 in their major, and have an overall GPA of at least 2.0 (among\n",
        "other things). Which of the following Boolean expressions should be used on line 4 of this model to\n",
        "test whether a student meets these graduation criteria?\n",
        "\n",
        "  * num_credits >= 192 or major_GPA >= 2.0 or overall_GPA >= 2.0\n",
        "  * num_credits > 192 and major_GPA > 2.0 and overall_GPA > 2.0\n",
        "  * num_credits > 191 and major_GPA >= 2.0 and overall_GPA >= 2.0\n",
        "  * num_credits >= 192 and major_GPA >= 2.0 and overall_GPA >= 2.0\n",
        "\n",
        "12. Add the Boolean expression you chose above to the following program. Create test values for\n",
        "the three variables involved to check all eight (2 × 2 × 2) different combinations of true/false values for\n",
        "the three relations in your chosen Boolean expression. Run each test case and verify that the program\n",
        "passes the test (gives the expected results).\n",
        "\n",
        "| Test Case | num_credits | major_GPA | overall_GPA | Expected Result | Actual Result | Test Passed |\n",
        "|:---------:|:-----------:|:---------:|:-----------:|:---------------:|:-------------:|:-----------:|\n",
        "| 1         |             |           |             |                 |               |             |\n",
        "| 2         |             |           |             |                 |               |             |\n",
        "| 3         |             |           |             |                 |               |             |\n",
        "| 4         |             |           |             |                 |               |             |\n",
        "| 5         |             |           |             |                 |               |             |\n",
        "| 6         |             |           |             |                 |               |             |\n",
        "| 7         |             |           |             |                 |               |             |\n",
        "| 8         |             |           |             |                 |               |             |\n"
      ]
    },
    {
      "cell_type": "code",
      "execution_count": null,
      "metadata": {},
      "outputs": [],
      "source": [
        "def main():\n",
        "  num_credits = 194\n",
        "  major_GPA = 2.9\n",
        "  overall_GPA = 2.1\n",
        "  if ___:\n",
        "    print(\"Congratulations!\")\n",
        "    print(\"You seem to meet the criteria for graduation.\")\n",
        "  else:\n",
        "    print(\"Sorry!\")\n",
        "    print(\"You do not meet all the criteria for graduation.\")\n",
        "\n",
        "main()"
      ]
    },
    {
      "cell_type": "markdown",
      "metadata": {},
      "source": [
        "13. An _edge case_ test is a test of a natural edges or boundary of the program. An example of a natural boundary in this program is where the major GPA is exactly 2.0, since this is a division line in determining whether somebody can graduate. Give at least two other edge cases that could be tested.\n",
        "\n",
        "## Model 5: Nested Conditionals\n",
        "\n",
        "Run the following program and determine what it does."
      ]
    },
    {
      "cell_type": "code",
      "execution_count": null,
      "metadata": {},
      "outputs": [],
      "source": [
        "import random\n",
        "\n",
        "def main():\n",
        "  grade = random.randint(40, 100)\n",
        "  print('Your grade is', grade)\n",
        "  if grade >= 90:\n",
        "    print(\"Very Good!\")\n",
        "  else:\n",
        "    if grade >= 60:\n",
        "      print(\"Satisfactory.\")\n",
        "    else:\n",
        "      print(\"Could be better.\")\n",
        "\n",
        "main()"
      ]
    },
    {
      "cell_type": "markdown",
      "metadata": {},
      "source": [
        "14. What lines contain an if-else that is _nested_ inside another if-else statement?\n",
        "\n",
        "15. What is the Python syntax that indicates that these lines are nested?\n",
        "\n",
        "Run the following program and determine what it does."
      ]
    },
    {
      "cell_type": "code",
      "execution_count": null,
      "metadata": {},
      "outputs": [],
      "source": [
        "import random\n",
        "\n",
        "def main():\n",
        "  grade = random.randint(40, 100)\n",
        "  if grade >= 90:\n",
        "    print(\"Very Good!\")\n",
        "  elif grade >= 60:\n",
        "    print(\"Satisfactory.\")\n",
        "  else:\n",
        "    print(\"Could be better.\")\n",
        "\n",
        "main()"
      ]
    },
    {
      "cell_type": "markdown",
      "metadata": {},
      "source": [
        "16. How is this different from the nested conditional?\n",
        "\n",
        "17. Which method of solving this problem contains simpler syntax and indentation—the one in the\n",
        "original model, or the revised one? Explain."
      ]
    }
  ],
  "metadata": {
    "colab": {
      "provenance": []
    },
    "kernelspec": {
      "display_name": ".venv",
      "language": "python",
      "name": "python3"
    },
    "language_info": {
      "codemirror_mode": {
        "name": "ipython",
        "version": 3
      },
      "file_extension": ".py",
      "mimetype": "text/x-python",
      "name": "python",
      "nbconvert_exporter": "python",
      "pygments_lexer": "ipython3",
      "version": "3.12.7"
    }
  },
  "nbformat": 4,
  "nbformat_minor": 0
}
